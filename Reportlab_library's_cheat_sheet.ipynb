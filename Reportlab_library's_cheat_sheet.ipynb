{
  "nbformat": 4,
  "nbformat_minor": 0,
  "metadata": {
    "colab": {
      "provenance": [],
      "authorship_tag": "ABX9TyOqU8GCUwvnLEPnvXpjF9Hl",
      "include_colab_link": true
    },
    "kernelspec": {
      "name": "python3",
      "display_name": "Python 3"
    },
    "language_info": {
      "name": "python"
    }
  },
  "cells": [
    {
      "cell_type": "markdown",
      "metadata": {
        "id": "view-in-github",
        "colab_type": "text"
      },
      "source": [
        "<a href=\"https://colab.research.google.com/github/BENMEZIAN/FPDF-python/blob/main/Reportlab_library's_cheat_sheet.ipynb\" target=\"_parent\"><img src=\"https://colab.research.google.com/assets/colab-badge.svg\" alt=\"Open In Colab\"/></a>"
      ]
    },
    {
      "cell_type": "code",
      "execution_count": 3,
      "metadata": {
        "colab": {
          "base_uri": "https://localhost:8080/"
        },
        "id": "lod3cTHiWmTW",
        "outputId": "1feaa6bd-cbdb-467e-b9a9-b1e3397b408a"
      },
      "outputs": [
        {
          "output_type": "stream",
          "name": "stdout",
          "text": [
            "PDF created: ReportLab_Cheat_Sheet.pdf\n"
          ]
        }
      ],
      "source": [
        "from reportlab.platypus import SimpleDocTemplate, Paragraph, Spacer, Table, TableStyle, PageBreak\n",
        "from reportlab.lib.styles import getSampleStyleSheet, ParagraphStyle\n",
        "from reportlab.lib.units import inch\n",
        "from reportlab.lib import colors\n",
        "\n",
        "doc = SimpleDocTemplate(\"ReportLab_Cheat_Sheet.pdf\")\n",
        "styles = getSampleStyleSheet()\n",
        "\n",
        "story = []\n",
        "\n",
        "# Title\n",
        "story.append(Paragraph(\"ReportLab PDF Generation Cheat Sheet\", styles['Title']))\n",
        "story.append(Spacer(1, 0.2*inch))\n",
        "\n",
        "# Sections as (heading, content)\n",
        "sections = [\n",
        "    (\"Installation\", \"pip install reportlab\"),\n",
        "    (\"Basic PDF Creation\", \"from reportlab.pdfgen import canvas\\n\\nc = canvas.Canvas(\\\"example.pdf\\\")\\nc.drawString(100, 750, \\\"Hello, ReportLab!\\\")\\nc.save()\"),\n",
        "    (\"Page Sizes and Units\", \"from reportlab.lib.pagesizes import A4, LETTER\\nfrom reportlab.lib.units import inch, cm, mm\\n\\nwidth, height = A4\"),\n",
        "    (\"Fonts & Text\", \"Use built-in fonts like 'Helvetica', 'Times-Roman', 'Courier'.\\nSet font:\\nc.setFont(\\\"Helvetica-Bold\\\", 14)\"),\n",
        "    (\"Drawing Shapes\", \"c.line(50, 700, 300, 700)  # line\\nc.rect(50, 600, 100, 50)  # rectangle\\nc.circle(200, 650, 40)  # circle\"),\n",
        "    (\"Platypus Layout\", \"from reportlab.platypus import SimpleDocTemplate, Paragraph, Spacer, Table, PageBreak\\nfrom reportlab.lib.styles import getSampleStyleSheet\\n\\nUse SimpleDocTemplate for multi-page and styled documents.\"),\n",
        "    (\"Paragraph Styles\", \"from reportlab.lib.styles import ParagraphStyle\\n\\ncustom_style = ParagraphStyle(name='Custom', fontName='Helvetica', fontSize=12, leading=14)\"),\n",
        "    (\"Tables with Styling\", \"Use Table and TableStyle for formatting tables.\\nSet colors, grid, alignment etc.\"),\n",
        "    (\"Multi-page Documents\", \"Use SimpleDocTemplate and add PageBreak() in story list.\"),\n",
        "    (\"Adding Images\", \"from reportlab.platypus import Image\\n\\nimg = Image(\\\"logo.png\\\", width=2*inch, height=1*inch)\"),\n",
        "]\n",
        "\n",
        "for heading, text in sections:\n",
        "    story.append(Paragraph(heading, styles['Heading2']))\n",
        "    story.append(Spacer(1, 0.1*inch))\n",
        "    story.append(Paragraph(text.replace(\"\\n\", \"<br/>\"), styles['Code']))\n",
        "    story.append(Spacer(1, 0.2*inch))\n",
        "\n",
        "doc.build(story)\n",
        "\n",
        "print(\"PDF created: ReportLab_Cheat_Sheet.pdf\")\n"
      ]
    },
    {
      "cell_type": "code",
      "source": [
        "!pip install reportlab"
      ],
      "metadata": {
        "colab": {
          "base_uri": "https://localhost:8080/"
        },
        "id": "ugYi_A1iWxR7",
        "outputId": "7253f045-2a47-4c9b-b37d-13b704df593f"
      },
      "execution_count": 2,
      "outputs": [
        {
          "output_type": "stream",
          "name": "stdout",
          "text": [
            "Collecting reportlab\n",
            "  Downloading reportlab-4.4.1-py3-none-any.whl.metadata (1.8 kB)\n",
            "Requirement already satisfied: pillow>=9.0.0 in /usr/local/lib/python3.11/dist-packages (from reportlab) (11.2.1)\n",
            "Requirement already satisfied: chardet in /usr/local/lib/python3.11/dist-packages (from reportlab) (5.2.0)\n",
            "Downloading reportlab-4.4.1-py3-none-any.whl (2.0 MB)\n",
            "\u001b[2K   \u001b[90m━━━━━━━━━━━━━━━━━━━━━━━━━━━━━━━━━━━━━━━━\u001b[0m \u001b[32m2.0/2.0 MB\u001b[0m \u001b[31m18.6 MB/s\u001b[0m eta \u001b[36m0:00:00\u001b[0m\n",
            "\u001b[?25hInstalling collected packages: reportlab\n",
            "Successfully installed reportlab-4.4.1\n"
          ]
        }
      ]
    }
  ]
}