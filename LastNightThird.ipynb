{
  "nbformat": 4,
  "nbformat_minor": 0,
  "metadata": {
    "colab": {
      "provenance": [],
      "authorship_tag": "ABX9TyMwTzIC40NphBjgUd9skh1s",
      "include_colab_link": true
    },
    "kernelspec": {
      "name": "python3",
      "display_name": "Python 3"
    },
    "language_info": {
      "name": "python"
    }
  },
  "cells": [
    {
      "cell_type": "markdown",
      "metadata": {
        "id": "view-in-github",
        "colab_type": "text"
      },
      "source": [
        "<a href=\"https://colab.research.google.com/github/BENMEZIAN/FPDF-python/blob/main/LastNightThird.ipynb\" target=\"_parent\"><img src=\"https://colab.research.google.com/assets/colab-badge.svg\" alt=\"Open In Colab\"/></a>"
      ]
    },
    {
      "cell_type": "code",
      "execution_count": 1,
      "metadata": {
        "colab": {
          "base_uri": "https://localhost:8080/"
        },
        "id": "V4P-0AIQrU-f",
        "outputId": "5ad5f963-5d28-4c82-8fdc-53e5c32b72c6"
      },
      "outputs": [
        {
          "output_type": "stream",
          "name": "stdout",
          "text": [
            "بداية الثلث الأخير: 01:36:00\n"
          ]
        }
      ],
      "source": [
        "from datetime import datetime, timedelta\n",
        "\n",
        "# وقت صلاة العشاء\n",
        "isha_time = datetime.strptime(\"21:36\", \"%H:%M\")\n",
        "\n",
        "# وقت صلاة الفجر (اليوم التالي)\n",
        "fajr_time = datetime.strptime(\"03:36\", \"%H:%M\") + timedelta(days=1)\n",
        "\n",
        "# حساب مدة الليل\n",
        "night_duration = fajr_time - isha_time\n",
        "\n",
        "# حساب الثلث الأخير\n",
        "one_third_night = night_duration / 3\n",
        "last_third_start = fajr_time - one_third_night\n",
        "\n",
        "# طباعة بداية الثلث الأخير\n",
        "print(\"بداية الثلث الأخير:\", last_third_start.time())"
      ]
    }
  ]
}