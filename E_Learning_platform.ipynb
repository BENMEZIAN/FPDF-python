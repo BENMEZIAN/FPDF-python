{
  "nbformat": 4,
  "nbformat_minor": 0,
  "metadata": {
    "colab": {
      "provenance": [],
      "authorship_tag": "ABX9TyNLPAnSTTlRE7sRrPVaDL5Q",
      "include_colab_link": true
    },
    "kernelspec": {
      "name": "python3",
      "display_name": "Python 3"
    },
    "language_info": {
      "name": "python"
    }
  },
  "cells": [
    {
      "cell_type": "markdown",
      "metadata": {
        "id": "view-in-github",
        "colab_type": "text"
      },
      "source": [
        "<a href=\"https://colab.research.google.com/github/BENMEZIAN/FPDF-python/blob/main/E_Learning_platform.ipynb\" target=\"_parent\"><img src=\"https://colab.research.google.com/assets/colab-badge.svg\" alt=\"Open In Colab\"/></a>"
      ]
    },
    {
      "cell_type": "code",
      "source": [
        "!pip install arabic-reshaper python-bidi reportlab"
      ],
      "metadata": {
        "colab": {
          "base_uri": "https://localhost:8080/"
        },
        "id": "GEU9wzt2br5y",
        "outputId": "c2f1f737-106d-43c0-bf11-bb19469df28d"
      },
      "execution_count": 14,
      "outputs": [
        {
          "output_type": "stream",
          "name": "stdout",
          "text": [
            "Collecting arabic-reshaper\n",
            "  Downloading arabic_reshaper-3.0.0-py3-none-any.whl.metadata (12 kB)\n",
            "Collecting python-bidi\n",
            "  Downloading python_bidi-0.6.6-cp311-cp311-manylinux_2_17_x86_64.manylinux2014_x86_64.whl.metadata (4.9 kB)\n",
            "Requirement already satisfied: reportlab in /usr/local/lib/python3.11/dist-packages (4.4.1)\n",
            "Requirement already satisfied: pillow>=9.0.0 in /usr/local/lib/python3.11/dist-packages (from reportlab) (11.2.1)\n",
            "Requirement already satisfied: chardet in /usr/local/lib/python3.11/dist-packages (from reportlab) (5.2.0)\n",
            "Downloading arabic_reshaper-3.0.0-py3-none-any.whl (20 kB)\n",
            "Downloading python_bidi-0.6.6-cp311-cp311-manylinux_2_17_x86_64.manylinux2014_x86_64.whl (292 kB)\n",
            "\u001b[2K   \u001b[90m━━━━━━━━━━━━━━━━━━━━━━━━━━━━━━━━━━━━━━━━\u001b[0m \u001b[32m292.9/292.9 kB\u001b[0m \u001b[31m12.4 MB/s\u001b[0m eta \u001b[36m0:00:00\u001b[0m\n",
            "\u001b[?25hInstalling collected packages: python-bidi, arabic-reshaper\n",
            "Successfully installed arabic-reshaper-3.0.0 python-bidi-0.6.6\n"
          ]
        }
      ]
    },
    {
      "cell_type": "code",
      "execution_count": 15,
      "metadata": {
        "colab": {
          "base_uri": "https://localhost:8080/"
        },
        "id": "zC5GOBjmbE-N",
        "outputId": "e5f05de5-df5b-40e6-9829-c14fe7f6889e"
      },
      "outputs": [
        {
          "output_type": "stream",
          "name": "stdout",
          "text": [
            "✅ PDF saved: منصة_تعليمية_برمجة.pdf\n"
          ]
        }
      ],
      "source": [
        "from reportlab.pdfgen import canvas\n",
        "from reportlab.lib.pagesizes import A4\n",
        "from arabic_reshaper import reshape\n",
        "from bidi.algorithm import get_display\n",
        "\n",
        "# Arabic content\n",
        "content = \"\"\"\n",
        "مشروع: منصة تعليمية لدورات البرمجة بثلاث لغات ولهجة محلية\n",
        "\n",
        "✅ الأدوات المستخدمة:\n",
        "- HTML / CSS / JS\n",
        "- Bootstrap\n",
        "- PHP\n",
        "- MySQL\n",
        "\n",
        "✅ تحليل الأدوات:\n",
        "- HTML/CSS/JS: الواجهة الأمامية.\n",
        "- Bootstrap: تصميم متجاوب وسريع.\n",
        "- PHP: البرمجة الخلفية (Backend).\n",
        "- MySQL: قاعدة البيانات.\n",
        "\n",
        "🧱 بنية المنصة الأساسية:\n",
        "\n",
        "1. قاعدة البيانات (MySQL)\n",
        "- users: (id, name, email, role [admin, teacher, student], password...)\n",
        "- courses: (id, title, description, teacher_id, price, language, status...)\n",
        "- lessons: (id, course_id, title, video_url, order, content...)\n",
        "- enrollments: (id, user_id, course_id, progress...)\n",
        "- reviews: (id, user_id, course_id, rating, comment...)\n",
        "\n",
        "2. واجهات المستخدم (Front-end)\n",
        "- الصفحة الرئيسية (عرض الدورات، تسجيل، تسجيل دخول)\n",
        "- صفحة دورة (محتوى، فيديو، تعليقات)\n",
        "- لوحة الطالب\n",
        "- لوحة المعلم (رفع دورة، مشاهدة الطلاب)\n",
        "- لوحة الأدمن (مراجعة دورات، إدارة النظام)\n",
        "\n",
        "3. التحكم في الصلاحيات (PHP)\n",
        "- التحقق من الدور عند الدخول\n",
        "- التحكم في الوصول\n",
        "\n",
        "4. نظام رفع الدورات:\n",
        "- المدرّس يضيف دورة (عنوان، وصف، فيديو)\n",
        "- الدورة تنتظر مراجعة الأدمن\n",
        "\"\"\"\n",
        "\n",
        "# Create PDF\n",
        "pdf_path = \"منصة_تعليمية_برمجة.pdf\"\n",
        "c = canvas.Canvas(pdf_path, pagesize=A4)\n",
        "c.setFont(\"Helvetica\", 12)\n",
        "\n",
        "# Write reshaped and RTL-corrected lines\n",
        "width, height = A4\n",
        "y = height - 40\n",
        "\n",
        "for line in content.strip().split('\\n'):\n",
        "    if line.strip():\n",
        "        reshaped_text = reshape(line)\n",
        "        bidi_text = get_display(reshaped_text)\n",
        "        c.drawRightString(width - 40, y, bidi_text)\n",
        "    y -= 20\n",
        "\n",
        "c.save()\n",
        "print(f\"✅ PDF saved: {pdf_path}\")\n"
      ]
    }
  ]
}