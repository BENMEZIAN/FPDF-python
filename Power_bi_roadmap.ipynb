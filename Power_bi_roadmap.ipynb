{
  "nbformat": 4,
  "nbformat_minor": 0,
  "metadata": {
    "colab": {
      "provenance": [],
      "authorship_tag": "ABX9TyND/+SP9Yae0JW2M4aGHeK9",
      "include_colab_link": true
    },
    "kernelspec": {
      "name": "python3",
      "display_name": "Python 3"
    },
    "language_info": {
      "name": "python"
    }
  },
  "cells": [
    {
      "cell_type": "markdown",
      "metadata": {
        "id": "view-in-github",
        "colab_type": "text"
      },
      "source": [
        "<a href=\"https://colab.research.google.com/github/BENMEZIAN/FPDF-python/blob/main/Power_bi_roadmap.ipynb\" target=\"_parent\"><img src=\"https://colab.research.google.com/assets/colab-badge.svg\" alt=\"Open In Colab\"/></a>"
      ]
    },
    {
      "cell_type": "code",
      "execution_count": 4,
      "metadata": {
        "colab": {
          "base_uri": "https://localhost:8080/",
          "height": 35
        },
        "id": "Cd1B-mf3AZm3",
        "outputId": "1559b178-d43f-404b-e2ea-20b0bd6797e2"
      },
      "outputs": [
        {
          "output_type": "execute_result",
          "data": {
            "text/plain": [
              "''"
            ],
            "application/vnd.google.colaboratory.intrinsic+json": {
              "type": "string"
            }
          },
          "metadata": {},
          "execution_count": 4
        }
      ],
      "source": [
        "from fpdf import FPDF\n",
        "\n",
        "class PDF(FPDF):\n",
        "    def header(self):\n",
        "        self.set_font('Arial', 'B', 14)\n",
        "        self.cell(0, 10, 'Power BI Learning Plan for Data Analytics', ln=True, align='C')\n",
        "        self.ln(5)\n",
        "\n",
        "    def chapter_title(self, title):\n",
        "        self.set_font('Arial', 'B', 12)\n",
        "        self.cell(0, 10, title, ln=True)\n",
        "        self.ln(2)\n",
        "\n",
        "    def chapter_body(self, body):\n",
        "        self.set_font('Arial', '', 11)\n",
        "        self.multi_cell(0, 8, body)\n",
        "        self.ln()\n",
        "\n",
        "content = \"\"\"\n",
        "Step 1: Pick One BI Tool - Recommended: Power BI\n",
        "\n",
        "Why Power BI?\n",
        "- Free desktop version (Power BI Desktop)\n",
        "- High demand in corporate environments\n",
        "- Beginner-friendly with drag-and-drop interface\n",
        "- Strong integration with Excel and SQL\n",
        "\n",
        "Estimated Learning Time: 8-12 hours (2-3 days)\n",
        "- Setup and exploring the UI: 1 hour\n",
        "- Basic data connection and charts: 3-4 hours\n",
        "- Build a full dashboard: 3-6 hours\n",
        "- Polish and share your report: 1-2 hours\n",
        "\n",
        "Action Plan to Learn Power BI:\n",
        "\n",
        "1. Install Power BI Desktop (Free)\n",
        "   https://powerbi.microsoft.com/desktop/\n",
        "\n",
        "2. Choose a Simple Dataset\n",
        "   Sources: Kaggle, data.gov, or Google Dataset Search\n",
        "\n",
        "3. Follow One Beginner Tutorial\n",
        "   Recommended: \"Power BI Full Course for Beginners\" by Simplilearn (~2 hours)\n",
        "   https://www.youtube.com/watch?v=AGrl-H87pRU\n",
        "\n",
        "4. Build a Dashboard\n",
        "   Use visuals: bar charts, line graphs, filters, slicers\n",
        "   Focus on uncovering trends or insights\n",
        "\n",
        "5. Share Your Work\n",
        "   - Export the dashboard as PDF or screenshots\n",
        "   - Upload to GitHub or share on LinkedIn\n",
        "   - Brief description: \"Exploring trends in [dataset] using Power BI\"\n",
        "\n",
        "This practical approach will help you transition from learning to doing.\n",
        "\"\"\"\n",
        "\n",
        "pdf = PDF()\n",
        "pdf.add_page()\n",
        "pdf.chapter_title(\"Power BI: Final Step in Your Data Analytics Journey\")\n",
        "pdf.chapter_body(content)\n",
        "\n",
        "pdf.output(\"Power_BI_Learning_Plan.pdf\")\n"
      ]
    }
  ]
}