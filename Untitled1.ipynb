{
  "nbformat": 4,
  "nbformat_minor": 0,
  "metadata": {
    "colab": {
      "provenance": [],
      "authorship_tag": "ABX9TyPdWXY9WsmfouyxgUufWpf/",
      "include_colab_link": true
    },
    "kernelspec": {
      "name": "python3",
      "display_name": "Python 3"
    },
    "language_info": {
      "name": "python"
    }
  },
  "cells": [
    {
      "cell_type": "markdown",
      "metadata": {
        "id": "view-in-github",
        "colab_type": "text"
      },
      "source": [
        "<a href=\"https://colab.research.google.com/github/BENMEZIAN/FPDF-python/blob/main/Untitled1.ipynb\" target=\"_parent\"><img src=\"https://colab.research.google.com/assets/colab-badge.svg\" alt=\"Open In Colab\"/></a>"
      ]
    },
    {
      "cell_type": "code",
      "source": [
        "# https://github.com/aliftype/amiri"
      ],
      "metadata": {
        "id": "PRaSROwwmYhs"
      },
      "execution_count": null,
      "outputs": []
    },
    {
      "cell_type": "code",
      "execution_count": 3,
      "metadata": {
        "colab": {
          "base_uri": "https://localhost:8080/"
        },
        "id": "qI0yvnpOiNvO",
        "outputId": "24fbf994-e76a-4262-b26e-088e0fe30b7b"
      },
      "outputs": [
        {
          "output_type": "stream",
          "name": "stdout",
          "text": [
            "Collecting reportlab\n",
            "  Downloading reportlab-4.4.1-py3-none-any.whl.metadata (1.8 kB)\n",
            "Requirement already satisfied: arabic-reshaper in /usr/local/lib/python3.11/dist-packages (3.0.0)\n",
            "Requirement already satisfied: python-bidi in /usr/local/lib/python3.11/dist-packages (0.6.6)\n",
            "Requirement already satisfied: pillow>=9.0.0 in /usr/local/lib/python3.11/dist-packages (from reportlab) (11.2.1)\n",
            "Requirement already satisfied: chardet in /usr/local/lib/python3.11/dist-packages (from reportlab) (5.2.0)\n",
            "Downloading reportlab-4.4.1-py3-none-any.whl (2.0 MB)\n",
            "\u001b[2K   \u001b[90m━━━━━━━━━━━━━━━━━━━━━━━━━━━━━━━━━━━━━━━━\u001b[0m \u001b[32m2.0/2.0 MB\u001b[0m \u001b[31m25.0 MB/s\u001b[0m eta \u001b[36m0:00:00\u001b[0m\n",
            "\u001b[?25hInstalling collected packages: reportlab\n",
            "Successfully installed reportlab-4.4.1\n"
          ]
        }
      ],
      "source": [
        "!pip install reportlab arabic-reshaper python-bidi"
      ]
    },
    {
      "cell_type": "code",
      "source": [
        "from reportlab.pdfgen import canvas\n",
        "from reportlab.pdfbase import pdfmetrics\n",
        "from reportlab.pdfbase.ttfonts import TTFont\n",
        "from reportlab.lib.pagesizes import A4\n",
        "from reportlab.pdfbase.cidfonts import UnicodeCIDFont\n",
        "import arabic_reshaper\n",
        "from bidi.algorithm import get_display\n",
        "\n",
        "# Arabic sentence\n",
        "arabic_text = \"مرحباً بك في منصتنا التعليمية\"\n",
        "\n",
        "# Reshape and apply bidi for correct display\n",
        "reshaped_text = arabic_reshaper.reshape(arabic_text)\n",
        "bidi_text = get_display(reshaped_text)\n",
        "\n",
        "# Register a built-in CID font that supports Arabic (fallback if no TTF is used)\n",
        "pdfmetrics.registerFont(UnicodeCIDFont('HeiseiMin-W3'))\n",
        "\n",
        "# Create PDF\n",
        "pdf_file_path = \"arabic_sentence.pdf\"\n",
        "c = canvas.Canvas(pdf_file_path, pagesize=A4)\n",
        "c.setFont('HeiseiMin-W3', 14)\n",
        "c.drawRightString(500, 800, bidi_text)\n",
        "c.save()\n",
        "\n",
        "pdf_file_path"
      ],
      "metadata": {
        "colab": {
          "base_uri": "https://localhost:8080/",
          "height": 35
        },
        "id": "lHffTyKViQvm",
        "outputId": "851ab9d5-737d-4af1-eeb1-de28a6d036cb"
      },
      "execution_count": 5,
      "outputs": [
        {
          "output_type": "execute_result",
          "data": {
            "text/plain": [
              "'arabic_sentence.pdf'"
            ],
            "application/vnd.google.colaboratory.intrinsic+json": {
              "type": "string"
            }
          },
          "metadata": {},
          "execution_count": 5
        }
      ]
    },
    {
      "cell_type": "code",
      "source": [
        "import arabic_reshaper\n",
        "from bidi.algorithm import get_display\n",
        "from reportlab.pdfgen import canvas\n",
        "from reportlab.pdfbase.ttfonts import TTFont\n",
        "from reportlab.pdfbase import pdfmetrics\n",
        "from reportlab.lib.pagesizes import A4\n",
        "\n",
        "# Register the Arabic font\n",
        "pdfmetrics.registerFont(TTFont('Amiri', 'Amiri-Regular.ttf'))\n",
        "\n",
        "# Arabic text\n",
        "text = \"مرحباً بك في منصتنا التعليمية\"\n",
        "\n",
        "# Reshape and apply bidi algorithm for correct letter connection and RTL display\n",
        "reshaped_text = arabic_reshaper.reshape(text)\n",
        "bidi_text = get_display(reshaped_text)\n",
        "\n",
        "# Create PDF\n",
        "c = canvas.Canvas(\"arabic_sentence.pdf\", pagesize=A4)\n",
        "c.setFont(\"Amiri\", 16)\n",
        "c.drawRightString(500, 800, bidi_text)\n",
        "c.save()"
      ],
      "metadata": {
        "id": "A3lfuuxjjXb9"
      },
      "execution_count": 10,
      "outputs": []
    }
  ]
}