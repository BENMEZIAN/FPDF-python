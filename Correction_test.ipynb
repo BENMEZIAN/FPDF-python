{
  "nbformat": 4,
  "nbformat_minor": 0,
  "metadata": {
    "colab": {
      "provenance": [],
      "authorship_tag": "ABX9TyNA0VbSsM1TdLyrRBgd16M/",
      "include_colab_link": true
    },
    "kernelspec": {
      "name": "python3",
      "display_name": "Python 3"
    },
    "language_info": {
      "name": "python"
    }
  },
  "cells": [
    {
      "cell_type": "markdown",
      "metadata": {
        "id": "view-in-github",
        "colab_type": "text"
      },
      "source": [
        "<a href=\"https://colab.research.google.com/github/BENMEZIAN/FPDF-python/blob/main/Correction_test.ipynb\" target=\"_parent\"><img src=\"https://colab.research.google.com/assets/colab-badge.svg\" alt=\"Open In Colab\"/></a>"
      ]
    },
    {
      "cell_type": "code",
      "execution_count": 10,
      "metadata": {
        "colab": {
          "base_uri": "https://localhost:8080/"
        },
        "id": "as0wSBeWspuK",
        "outputId": "24947b3a-daa5-440c-b172-c6132d0e5950"
      },
      "outputs": [
        {
          "output_type": "stream",
          "name": "stdout",
          "text": [
            "✅ Fichiers générés. Cliquez à gauche dans les fichiers pour les télécharger.\n"
          ]
        }
      ],
      "source": [
        "from fpdf import FPDF\n",
        "\n",
        "def create_pdf(text, filename):\n",
        "    pdf = FPDF()\n",
        "    pdf.set_auto_page_break(auto=True, margin=15)\n",
        "    pdf.add_page()\n",
        "    pdf.set_font(\"Courier\", size=11)\n",
        "    for line in text.split('\\n'):\n",
        "        pdf.multi_cell(0, 8, line)\n",
        "    pdf.output(filename)\n",
        "\n",
        "def clean_text(text):\n",
        "    return text.encode(\"ascii\", \"ignore\").decode()\n",
        "\n",
        "# Correction Sujet A\n",
        "correction_a = \"\"\"Correction — Examen de Programmation en C : Sujet A\n",
        "\n",
        "Partie 1 : QCM (5 points)\n",
        "1. a. float fonction(int);\n",
        "2. b. ->\n",
        "3. c. Ouvre un fichier pour ajouter du contenu à la fin\n",
        "4. b. 10\n",
        "5. a. Pour modifier directement la variable d’origine\n",
        "\n",
        "Partie 2 : Analyse et correction de code (10 points)\n",
        "\n",
        "1- Les corrections\n",
        "- Ajout de #include <string.h>\n",
        "- Utilisation de typedef struct Student { ... } Student;\n",
        "Code corrigé :\n",
        "#include <stdio.h>\n",
        "#include <string.h>\n",
        "\n",
        "typedef struct Student {\n",
        "    char name[50];\n",
        "    int grade;\n",
        "} Student;\n",
        "\n",
        "2- Fonction qui sauvegarde un étudiant dans un fichier texte\n",
        "void saveStudent(Student s) {\n",
        "    FILE *f = fopen(\"students.txt\", \"a\");\n",
        "    if (f != NULL) {\n",
        "        fprintf(f, \"%s %d\\\\n\", s.name, s.grade);\n",
        "        fclose(f);\n",
        "    }\n",
        "}\n",
        "\n",
        "3- Fonction qui modifie la note d’un étudiant\n",
        "void modifyGrade(Student *s, int newGrade) {\n",
        "    s->grade = newGrade;\n",
        "}\n",
        "\n",
        "4- Programme principal\n",
        "int main() {\n",
        "\n",
        "    Student s1;\n",
        "    strcpy(s1.name, \"Alice\");\n",
        "    s1.grade = 14;\n",
        "\n",
        "    Student *ptr = &s1;\n",
        "    printf(\"Nom: %s, Note: %d\\\\n\", ptr->name, ptr->grade);\n",
        "\n",
        "    saveStudent(s1);\n",
        "    modifyGrade(&s1, 17);\n",
        "    printf(\"Note modifiee: %d\\\\n\", s1.grade);\n",
        "\n",
        "    return 0;\n",
        "}\n",
        "\n",
        "5- Description :\n",
        "Ce programme crée une structure Student, initialise un étudiant,\n",
        "affiche ses infos via pointeur, les sauvegarde dans un fichier et modifie la note.\n",
        "\"\"\"\n",
        "\n",
        "# Correction Sujet B\n",
        "correction_b = \"\"\"Correction — Examen de Programmation en C : Sujet B\n",
        "\n",
        "Partie 1 : QCM (5 points)\n",
        "1. b. int fonction();\n",
        "2. c. Lit une valeur entière depuis un fichier\n",
        "3. b. Crée un fichier s’il n’existe pas et l’ouvre en écriture (contenu écrasé)\n",
        "4. a. 10\n",
        "5. b. Pour retourner plusieurs valeurs\n",
        "\n",
        "Partie 2 : Analyse et correction de code (10 points)\n",
        "\n",
        "1- Les corrections\n",
        "- Ajout de #include <string.h>\n",
        "- Utilisation de typedef struct Person { ... } Person;\n",
        "Code corrigé :\n",
        "#include <stdio.h>\n",
        "#include <string.h>\n",
        "\n",
        "typedef struct Person {\n",
        "    char name[50];\n",
        "    int age;\n",
        "} Person;\n",
        "\n",
        "2- Fonction qui sauvegarde une personne dans un fichier texte\n",
        "void saveToFile(Person p) {\n",
        "    FILE *f = fopen(\"people.txt\", \"w\");\n",
        "    if (f != NULL) {\n",
        "        fprintf(f, \"%s %d\\\\n\", p.name, p.age);\n",
        "        fclose(f);\n",
        "    }\n",
        "}\n",
        "\n",
        "3- Fonction qui modifie l’âge d’une personne\n",
        "void updateAge(Person *p, int newAge) {\n",
        "    p->age = newAge;\n",
        "}\n",
        "\n",
        "4- Programme principal\n",
        "int main() {\n",
        "\n",
        "    Person person1;\n",
        "    strcpy(person1.name, \"Bob\");\n",
        "    person1.age = 30;\n",
        "\n",
        "    Person *ptr = &person1;\n",
        "    printf(\"Nom: %s, Age: %d\\\\n\", ptr->name, ptr->age);\n",
        "\n",
        "    saveToFile(person1);\n",
        "    updateAge(&person1, 35);\n",
        "    printf(\"Age modifie: %d\\\\n\", person1.age);\n",
        "\n",
        "    return 0;\n",
        "}\n",
        "\n",
        "5- Description :\n",
        "Ce programme crée une structure Person, initialise une personne,\n",
        "affiche ses infos via pointeur, les sauvegarde dans un fichier et met à jour son âge.\n",
        "\"\"\"\n",
        "\n",
        "# Génération des PDFs\n",
        "create_pdf(clean_text(correction_a), \"Correction_Sujet_A_TYPEDEF.pdf\")\n",
        "create_pdf(clean_text(correction_b), \"Correction_Sujet_B_TYPEDEF.pdf\")\n",
        "\n",
        "print(\"✅ Fichiers générés. Cliquez à gauche dans les fichiers pour les télécharger.\")\n"
      ]
    },
    {
      "cell_type": "code",
      "source": [
        "!pip install fpdf"
      ],
      "metadata": {
        "colab": {
          "base_uri": "https://localhost:8080/"
        },
        "id": "XmWncU0vs1C_",
        "outputId": "550295d4-fe15-4258-8fef-71c943bf2d5d"
      },
      "execution_count": 2,
      "outputs": [
        {
          "output_type": "stream",
          "name": "stdout",
          "text": [
            "Collecting fpdf\n",
            "  Downloading fpdf-1.7.2.tar.gz (39 kB)\n",
            "  Preparing metadata (setup.py) ... \u001b[?25l\u001b[?25hdone\n",
            "Building wheels for collected packages: fpdf\n",
            "  Building wheel for fpdf (setup.py) ... \u001b[?25l\u001b[?25hdone\n",
            "  Created wheel for fpdf: filename=fpdf-1.7.2-py2.py3-none-any.whl size=40704 sha256=10d134f8cbc9666289faafb147382b8aa91fd89d548a720c06156b4058253cf9\n",
            "  Stored in directory: /root/.cache/pip/wheels/65/4f/66/bbda9866da446a72e206d6484cd97381cbc7859a7068541c36\n",
            "Successfully built fpdf\n",
            "Installing collected packages: fpdf\n",
            "Successfully installed fpdf-1.7.2\n"
          ]
        }
      ]
    }
  ]
}