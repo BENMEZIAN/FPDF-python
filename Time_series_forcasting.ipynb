{
  "nbformat": 4,
  "nbformat_minor": 0,
  "metadata": {
    "colab": {
      "provenance": [],
      "authorship_tag": "ABX9TyPVJN0LRmwJySmXY0QmkbMG",
      "include_colab_link": true
    },
    "kernelspec": {
      "name": "python3",
      "display_name": "Python 3"
    },
    "language_info": {
      "name": "python"
    }
  },
  "cells": [
    {
      "cell_type": "markdown",
      "metadata": {
        "id": "view-in-github",
        "colab_type": "text"
      },
      "source": [
        "<a href=\"https://colab.research.google.com/github/BENMEZIAN/FPDF-python/blob/main/Time_series_forcasting.ipynb\" target=\"_parent\"><img src=\"https://colab.research.google.com/assets/colab-badge.svg\" alt=\"Open In Colab\"/></a>"
      ]
    },
    {
      "cell_type": "code",
      "execution_count": 4,
      "metadata": {
        "colab": {
          "base_uri": "https://localhost:8080/",
          "height": 35
        },
        "id": "dE97s0OeJEjO",
        "outputId": "d2b973be-cbe9-475d-a53d-759700050f8c"
      },
      "outputs": [
        {
          "output_type": "execute_result",
          "data": {
            "text/plain": [
              "''"
            ],
            "application/vnd.google.colaboratory.intrinsic+json": {
              "type": "string"
            }
          },
          "metadata": {},
          "execution_count": 4
        }
      ],
      "source": [
        "from fpdf import FPDF\n",
        "\n",
        "arima_text = \"\"\"\n",
        "Time Series Forecasting with ARIMA in Python\n",
        "===========================================\n",
        "\n",
        "What Is ARIMA?\n",
        "--------------\n",
        "ARIMA (AutoRegressive Integrated Moving Average) is a widely used model for forecasting univariate time series data.\n",
        "It is best for datasets that show a trend but not strong seasonality.\n",
        "\n",
        "Model Notation: ARIMA(p, d, q)\n",
        "- p: Autoregression (AR) - uses past values\n",
        "- d: Differencing - makes the series stationary\n",
        "- q: Moving Average (MA) - uses past forecast errors\n",
        "\n",
        "Step-by-Step Guide\n",
        "------------------\n",
        "\n",
        "1. Install Required Packages\n",
        "----------------------------\n",
        "pip install pandas matplotlib statsmodels\n",
        "\n",
        "2. Load and Visualize Data\n",
        "--------------------------\n",
        "import pandas as pd\n",
        "import matplotlib.pyplot as plt\n",
        "\n",
        "df = pd.read_csv('your_timeseries.csv', parse_dates=['Date'], index_col='Date')\n",
        "series = df['Value']  # Replace with your column name\n",
        "series.plot(title='Time Series')\n",
        "plt.show()\n",
        "\n",
        "3. Check for Stationarity\n",
        "--------------------------\n",
        "from statsmodels.tsa.stattools import adfuller\n",
        "\n",
        "result = adfuller(series)\n",
        "print(f'ADF Statistic: {result[0]}')\n",
        "print(f'p-value: {result[1]}')\n",
        "\n",
        "If p-value > 0.05, data is not stationary - apply differencing.\n",
        "\n",
        "4. Fit ARIMA Model\n",
        "------------------\n",
        "from statsmodels.tsa.arima.model import ARIMA\n",
        "\n",
        "model = ARIMA(series, order=(1, 1, 1))\n",
        "model_fit = model.fit()\n",
        "print(model_fit.summary())\n",
        "\n",
        "5. Make Predictions\n",
        "-------------------\n",
        "forecast = model_fit.forecast(steps=10)\n",
        "print(forecast)\n",
        "\n",
        "series.plot(label='Actual', figsize=(10, 5))\n",
        "forecast.plot(label='Forecast', style='--')\n",
        "plt.legend()\n",
        "plt.show()\n",
        "\n",
        "6. Evaluate Model\n",
        "-----------------\n",
        "from sklearn.metrics import mean_squared_error\n",
        "\n",
        "error = mean_squared_error(test_data, forecast)\n",
        "print(f'MSE: {error}')\n",
        "\n",
        "Optional: Use Auto ARIMA\n",
        "------------------------\n",
        "pip install pmdarima\n",
        "\n",
        "from pmdarima import auto_arima\n",
        "\n",
        "auto_model = auto_arima(series, seasonal=False, trace=True)\n",
        "print(auto_model.summary())\n",
        "\"\"\"\n",
        "\n",
        "pdf = FPDF()\n",
        "pdf.add_page()\n",
        "pdf.set_font(\"Arial\", size=10)\n",
        "\n",
        "for line in arima_text.strip().split('\\n'):\n",
        "    pdf.cell(0, 8, txt=line.encode('latin-1', 'replace').decode('latin-1'), ln=True)\n",
        "\n",
        "pdf.output(\"ARIMA_Time_Series_Guide.pdf\")\n"
      ]
    },
    {
      "cell_type": "code",
      "source": [
        "!pip install fpdf"
      ],
      "metadata": {
        "colab": {
          "base_uri": "https://localhost:8080/"
        },
        "id": "NB0EsPJ3JQkC",
        "outputId": "ca269837-43ad-4ba0-a849-f2adc0f28302"
      },
      "execution_count": 2,
      "outputs": [
        {
          "output_type": "stream",
          "name": "stdout",
          "text": [
            "Collecting fpdf\n",
            "  Downloading fpdf-1.7.2.tar.gz (39 kB)\n",
            "  Preparing metadata (setup.py) ... \u001b[?25l\u001b[?25hdone\n",
            "Building wheels for collected packages: fpdf\n",
            "  Building wheel for fpdf (setup.py) ... \u001b[?25l\u001b[?25hdone\n",
            "  Created wheel for fpdf: filename=fpdf-1.7.2-py2.py3-none-any.whl size=40704 sha256=1467c91643d29a843fe30b847dc61555fd8dbf9cdca340c1476a3f42ba0a538a\n",
            "  Stored in directory: /root/.cache/pip/wheels/65/4f/66/bbda9866da446a72e206d6484cd97381cbc7859a7068541c36\n",
            "Successfully built fpdf\n",
            "Installing collected packages: fpdf\n",
            "Successfully installed fpdf-1.7.2\n"
          ]
        }
      ]
    }
  ]
}