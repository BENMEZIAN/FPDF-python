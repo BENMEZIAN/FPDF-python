{
  "nbformat": 4,
  "nbformat_minor": 0,
  "metadata": {
    "colab": {
      "provenance": [],
      "authorship_tag": "ABX9TyPkuZlqAQmZp98x+pMR9Bna",
      "include_colab_link": true
    },
    "kernelspec": {
      "name": "python3",
      "display_name": "Python 3"
    },
    "language_info": {
      "name": "python"
    }
  },
  "cells": [
    {
      "cell_type": "markdown",
      "metadata": {
        "id": "view-in-github",
        "colab_type": "text"
      },
      "source": [
        "<a href=\"https://colab.research.google.com/github/BENMEZIAN/FPDF-python/blob/main/fpdf_library.ipynb\" target=\"_parent\"><img src=\"https://colab.research.google.com/assets/colab-badge.svg\" alt=\"Open In Colab\"/></a>"
      ]
    },
    {
      "cell_type": "code",
      "execution_count": 14,
      "metadata": {
        "colab": {
          "base_uri": "https://localhost:8080/",
          "height": 35
        },
        "id": "iB7pxRvMuyir",
        "outputId": "1da872d6-61f1-481f-d401-daeeecbdae74"
      },
      "outputs": [
        {
          "output_type": "execute_result",
          "data": {
            "text/plain": [
              "''"
            ],
            "application/vnd.google.colaboratory.intrinsic+json": {
              "type": "string"
            }
          },
          "metadata": {},
          "execution_count": 14
        }
      ],
      "source": [
        "from fpdf import FPDF\n",
        "\n",
        "pdf = FPDF()\n",
        "pdf.set_auto_page_break(auto=True, margin=15)\n",
        "pdf.add_page()\n",
        "pdf.set_font(\"Arial\", size=12)\n",
        "\n",
        "# Titre\n",
        "pdf.set_font(\"Arial\", 'B', 16)\n",
        "pdf.cell(0, 10, \"Résumé sur les pointeurs en langage C\", ln=True, align='C')\n",
        "pdf.ln(10)\n",
        "pdf.set_font(\"Arial\", size=12)\n",
        "\n",
        "sections = [\n",
        "    (\"1. Déclaration d’un pointeur\",\n",
        "     \"int *p;\\n- 'p' est un pointeur vers un entier.\\n- Le '*' indique que c’est un pointeur.\"),\n",
        "\n",
        "    (\"2. Adresse d’une variable\",\n",
        "     \"int x = 10;\\np = &x;\\n- '&x' donne l’adresse mémoire de x.\\n- 'p' pointe maintenant vers x.\"),\n",
        "\n",
        "    (\"3. Accès au contenu pointé (déréférencement)\",\n",
        "     \"printf(\\\"%d\\\\n\\\", *p); // affiche 10\\n- '*p' accède à la valeur stockée à l’adresse pointée.\"),\n",
        "\n",
        "    (\"4. Modification via le pointeur\",\n",
        "     \"*p = 20; // modifie x à 20\\n- On peut changer la valeur de la variable pointée via le pointeur.\"),\n",
        "\n",
        "    (\"5. Pointeur nul\",\n",
        "     \"int *p = NULL;\\n- Signifie que 'p' ne pointe vers rien.\\n- Pratique pour vérifier si un pointeur est valide.\"),\n",
        "\n",
        "    (\"6. Pointeurs et structures (avec typedef et '->')\",\n",
        "     \"typedef struct Point{\\n    int x;\\n    int y;\\n} Point;\\n\\nPoint pt = {3, 4};\\nPoint *ppt = &pt;\\n\\n\"\n",
        "     \"printf(\\\"%d\\\\n\\\", ppt->x); // affiche 3\\n- 'ppt->x' est équivalent à '(*ppt).x'.\"),\n",
        "\n",
        "    (\"7. Pointeurs et tableaux\",\n",
        "     \"int tab[3] = {1, 2, 3};\\nint *p = tab;\\n\\nprintf(\\\"%d\\\\n\\\", *(p + 1)); // affiche 2\\n\"\n",
        "     \"printf(\\\"%d\\\\n\\\", p[2]);     // affiche 3\\n\\n- Un tableau est vu comme un pointeur vers son premier élément.\")\n",
        "]\n",
        "\n",
        "def clean_text(text):\n",
        "    return text.replace(\"’\", \"'\").replace(\"“\", '\"').replace(\"”\", '\"')\n",
        "\n",
        "...\n",
        "\n",
        "for title, content in sections:\n",
        "    pdf.set_font(\"Arial\", 'B', 12)\n",
        "    pdf.multi_cell(0, 10, clean_text(title))\n",
        "    pdf.set_font(\"Arial\", size=12)\n",
        "    pdf.multi_cell(0, 8, clean_text(content))\n",
        "    pdf.ln(2)\n",
        "\n",
        "pdf.output(\"Resume_Pointeurs_C.pdf\")"
      ]
    },
    {
      "cell_type": "code",
      "source": [
        "!pip install fpdf"
      ],
      "metadata": {
        "colab": {
          "base_uri": "https://localhost:8080/"
        },
        "id": "TrDukHqQu6yc",
        "outputId": "73253487-c615-492a-f054-81aae1791407"
      },
      "execution_count": 2,
      "outputs": [
        {
          "output_type": "stream",
          "name": "stdout",
          "text": [
            "Collecting fpdf\n",
            "  Downloading fpdf-1.7.2.tar.gz (39 kB)\n",
            "  Preparing metadata (setup.py) ... \u001b[?25l\u001b[?25hdone\n",
            "Building wheels for collected packages: fpdf\n",
            "  Building wheel for fpdf (setup.py) ... \u001b[?25l\u001b[?25hdone\n",
            "  Created wheel for fpdf: filename=fpdf-1.7.2-py2.py3-none-any.whl size=40704 sha256=6fa124fff663af914db194ad2a460a2dde38ed5eecb500e18850285175ea36c7\n",
            "  Stored in directory: /root/.cache/pip/wheels/65/4f/66/bbda9866da446a72e206d6484cd97381cbc7859a7068541c36\n",
            "Successfully built fpdf\n",
            "Installing collected packages: fpdf\n",
            "Successfully installed fpdf-1.7.2\n"
          ]
        }
      ]
    }
  ]
}